{
 "cells": [
  {
   "cell_type": "code",
   "execution_count": 2,
   "id": "c10cd846",
   "metadata": {},
   "outputs": [
    {
     "name": "stdout",
     "output_type": "stream",
     "text": [
      "    gpa  test score  accepted\n",
      "0   4.0          82         1\n",
      "1   3.0          80         0\n",
      "2   2.5          75         0\n",
      "3   3.4          90         1\n",
      "4   4.2          88         1\n",
      "5   5.0          92         1\n",
      "6   2.7          99         0\n",
      "7   3.3          85         0\n",
      "8   4.2          72         0\n",
      "9   3.6          80         0\n",
      "10  2.9          85         0\n",
      "11  3.9          85         1\n",
      "12  4.5          99         1\n",
      "13  4.7          90         1\n",
      "14  4.6          80         1\n",
      "15  4.6          75         0\n",
      "16  3.4          64         0\n"
     ]
    }
   ],
   "source": [
    "import pandas as pd\n",
    "\n",
    "dataset = [\n",
    "[4, 82, 1],\n",
    "[3, 80, 0],\n",
    "[2.5, 75, 0],\n",
    "[3.4, 90, 1],\n",
    "[4.2, 88, 1],\n",
    "[5, 92, 1],\n",
    "[2.7, 99, 0],\n",
    "[3.3, 85, 0],\n",
    "[4.2, 72, 0],\n",
    "[3.6, 80, 0],\n",
    "[2.9, 85, 0],\n",
    "[3.9, 85, 1],\n",
    "[4.5, 99, 1],\n",
    "[4.7, 90, 1],\n",
    "[4.6, 80, 1],\n",
    "[4.6, 75, 0],\n",
    "[3.4, 64, 0]]\n",
    "    \n",
    "df = pd.DataFrame(data=dataset, columns=['gpa', 'test score', 'accepted'])\n",
    "print(df)"
   ]
  },
  {
   "cell_type": "code",
   "execution_count": 3,
   "id": "79573c68",
   "metadata": {},
   "outputs": [
    {
     "name": "stderr",
     "output_type": "stream",
     "text": [
      "/Users/chrismaguire/opt/anaconda3/lib/python3.9/site-packages/sklearn/utils/validation.py:63: DataConversionWarning: A column-vector y was passed when a 1d array was expected. Please change the shape of y to (n_samples, ), for example using ravel().\n",
      "  return f(*args, **kwargs)\n"
     ]
    },
    {
     "data": {
      "text/plain": [
       "LogisticRegression()"
      ]
     },
     "execution_count": 3,
     "metadata": {},
     "output_type": "execute_result"
    }
   ],
   "source": [
    "from sklearn.model_selection import train_test_split\n",
    "from sklearn.linear_model import LogisticRegression\n",
    "\n",
    "X_train, X_test, y_train, y_test = train_test_split(df[['gpa', 'test score']],df[['accepted']],train_size=0.8)\n",
    "\n",
    "model = LogisticRegression()\n",
    "\n",
    "model.fit(X_train, y_train)"
   ]
  },
  {
   "cell_type": "code",
   "execution_count": 6,
   "id": "1095b748",
   "metadata": {},
   "outputs": [
    {
     "name": "stdout",
     "output_type": "stream",
     "text": [
      "1.0\n",
      "[[1.24315167 0.13729009]]\n",
      "[-16.18986006]\n"
     ]
    }
   ],
   "source": [
    "y_predicted = model.predict(X_test)\n",
    "\n",
    "model.predict_proba(X_test)\n",
    "\n",
    "print(model.score(X_test,y_test))\n",
    "\n",
    "print(model.coef_)\n",
    "\n",
    "print(model.intercept_)"
   ]
  },
  {
   "cell_type": "code",
   "execution_count": 11,
   "id": "0497ddeb",
   "metadata": {},
   "outputs": [
    {
     "data": {
      "text/plain": [
       "array([[0.74720043, 0.25279957],\n",
       "       [0.41870563, 0.58129437],\n",
       "       [0.71403499, 0.28596501],\n",
       "       [0.60295713, 0.39704287]])"
      ]
     },
     "execution_count": 11,
     "metadata": {},
     "output_type": "execute_result"
    }
   ],
   "source": [
    "model.predict_proba(X_test)\n"
   ]
  },
  {
   "cell_type": "code",
   "execution_count": 12,
   "id": "c34d013b",
   "metadata": {},
   "outputs": [
    {
     "data": {
      "text/plain": [
       "array([[0.0655842 , 0.9344158 ],\n",
       "       [0.48986787, 0.51013213],\n",
       "       [0.95994331, 0.04005669],\n",
       "       [0.04760503, 0.95239497],\n",
       "       [0.24732972, 0.75267028],\n",
       "       [0.37476114, 0.62523886],\n",
       "       [0.54354083, 0.45645917],\n",
       "       [0.94187212, 0.05812788],\n",
       "       [0.81414895, 0.18585105],\n",
       "       [0.67509197, 0.32490803],\n",
       "       [0.11825486, 0.88174514],\n",
       "       [0.40300403, 0.59699597],\n",
       "       [0.3190006 , 0.6809994 ]])"
      ]
     },
     "execution_count": 12,
     "metadata": {},
     "output_type": "execute_result"
    }
   ],
   "source": [
    "model.predict_proba(X_train)"
   ]
  },
  {
   "cell_type": "code",
   "execution_count": null,
   "id": "ce57dc24",
   "metadata": {},
   "outputs": [],
   "source": []
  }
 ],
 "metadata": {
  "kernelspec": {
   "display_name": "Python 3 (ipykernel)",
   "language": "python",
   "name": "python3"
  },
  "language_info": {
   "codemirror_mode": {
    "name": "ipython",
    "version": 3
   },
   "file_extension": ".py",
   "mimetype": "text/x-python",
   "name": "python",
   "nbconvert_exporter": "python",
   "pygments_lexer": "ipython3",
   "version": "3.9.7"
  }
 },
 "nbformat": 4,
 "nbformat_minor": 5
}
