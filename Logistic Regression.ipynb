{
 "cells": [
  {
   "cell_type": "code",
   "execution_count": null,
   "id": "c10cd846",
   "metadata": {},
   "outputs": [],
   "source": [
    " dataset = [\n",
    "[4, 82, 1],\n",
    "[3, 80, 0],\n",
    "[2.5, 75, 0],\n",
    "[3.4, 90, 1],\n",
    "[4.2, 88, 1],\n",
    "[5, 92, 1],\n",
    "[2.7, 99, 0],\n",
    "[3.3, 85, 0],\n",
    "[4.2, 72, 0],\n",
    "[3.6, 80, 0],\n",
    "[2.9, 85, 0],\n",
    "[3.9, 85, 1],\n",
    "[4.5, 99, 1],\n",
    "[4.7, 90, 1],\n",
    "[4.6, 80, 1],\n",
    "[4.6, 75, 0],\n",
    "[3.4, 64, 0]]"
   ]
  }
 ],
 "metadata": {
  "kernelspec": {
   "display_name": "Python 3 (ipykernel)",
   "language": "python",
   "name": "python3"
  },
  "language_info": {
   "codemirror_mode": {
    "name": "ipython",
    "version": 3
   },
   "file_extension": ".py",
   "mimetype": "text/x-python",
   "name": "python",
   "nbconvert_exporter": "python",
   "pygments_lexer": "ipython3",
   "version": "3.9.7"
  }
 },
 "nbformat": 4,
 "nbformat_minor": 5
}
