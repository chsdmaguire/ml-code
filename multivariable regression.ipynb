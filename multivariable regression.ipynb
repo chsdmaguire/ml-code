{
 "cells": [
  {
   "cell_type": "code",
   "execution_count": 10,
   "id": "6dfca2e0",
   "metadata": {},
   "outputs": [
    {
     "name": "stdout",
     "output_type": "stream",
     "text": [
      "    observation_date  FEDFUNDS  CPIAUCSL  JTSJOL      PCE     R_GDP\n",
      "0         2000-12-01      6.40   174.600    5088   6952.2 -1.576315\n",
      "1         2001-01-01      5.98   175.600    5234   6987.4 -3.378501\n",
      "2         2001-02-01      5.49   176.000    5097   7001.8 -1.504911\n",
      "3         2001-03-01      5.31   176.100    4762   6996.7  2.542669\n",
      "4         2001-04-01      4.80   176.400    4615   7004.2  4.049582\n",
      "..               ...       ...       ...     ...      ...       ...\n",
      "263       2022-11-01      3.78   298.598   10746  17735.0  0.260043\n",
      "264       2022-12-01      4.10   298.990   11234  17736.5 -0.010916\n",
      "265       2023-01-01      4.33   300.536   10563  18085.8  2.592624\n",
      "266       2023-02-01      4.57   301.648    9974  18096.0  0.833176\n",
      "267       2023-03-01      4.65   301.808    9590  18104.2 -0.169929\n",
      "\n",
      "[268 rows x 6 columns]\n",
      "          FEDFUNDS  CPIAUCSL    JTSJOL       PCE     R_GDP\n",
      "FEDFUNDS  1.000000 -0.320397  0.038808 -0.268516 -0.020907\n",
      "CPIAUCSL -0.320397  1.000000  0.811686  0.991545 -0.003315\n",
      "JTSJOL    0.038808  0.811686  1.000000  0.863333  0.055073\n",
      "PCE      -0.268516  0.991545  0.863333  1.000000  0.038171\n",
      "R_GDP    -0.020907 -0.003315  0.055073  0.038171  1.000000\n"
     ]
    }
   ],
   "source": [
    "import matplotlib.pyplot as plt\n",
    "import pandas as pd\n",
    "\n",
    "df = pd.read_excel('EconData.xlsx')\n",
    "print(df)\n",
    "\n",
    "corr = df.corr()\n",
    "print(corr)"
   ]
  },
  {
   "cell_type": "code",
   "execution_count": 11,
   "id": "41824a64",
   "metadata": {},
   "outputs": [
    {
     "name": "stdout",
     "output_type": "stream",
     "text": [
      "          FEDFUNDS   CPIAUCSL    JTSJOL        PCE     R_GDP\n",
      "FEDFUNDS       inf   1.114398  1.001508   1.077704  1.000437\n",
      "CPIAUCSL  1.114398        inf  2.931124  59.387636  1.000011\n",
      "JTSJOL    1.001508   2.931124       inf   3.926863  1.003042\n",
      "PCE       1.077704  59.387636  3.926863        inf  1.001459\n",
      "R_GDP     1.000437   1.000011  1.003042   1.001459       inf\n"
     ]
    }
   ],
   "source": [
    "vif_df = 1 / (1 - corr **2)\n",
    "\n",
    "print(vif_df)\n",
    "\n",
    "\n"
   ]
  },
  {
   "cell_type": "code",
   "execution_count": 12,
   "id": "b10a830b",
   "metadata": {},
   "outputs": [
    {
     "name": "stdout",
     "output_type": "stream",
     "text": [
      "The intercept for our model is 2.272\n",
      "----------------------------------------------------------------------------------------------------\n",
      "The Coefficient for FEDFUNDS is -0.18\n",
      "The Coefficient for JTSJOL is 0.00053\n",
      "The Coefficient for PCE is -0.00027\n"
     ]
    }
   ],
   "source": [
    "from sklearn.linear_model import LinearRegression\n",
    "from sklearn.model_selection import train_test_split\n",
    "from sklearn.metrics import mean_squared_error, r2_score, mean_absolute_error\n",
    "\n",
    "# remove the CPI column and observation date since this is not needed\n",
    "new_df = df.drop(columns=['CPIAUCSL', 'observation_date'], axis = 1)\n",
    "\n",
    "# Split Between X & Y columnns & between test & training data sets\n",
    "X = new_df.drop(columns=['R_GDP'], axis=1)\n",
    "Y = new_df[['R_GDP']]\n",
    "\n",
    "X_train, X_test, y_train, y_test = train_test_split(X, Y, test_size=0.20, random_state=1)\n",
    "\n",
    "#Create regression model\n",
    "regression_model = LinearRegression()\n",
    "\n",
    "regression_model.fit(X_train, y_train)\n",
    "\n",
    "# let's grab the coefficient of our model and the intercept\n",
    "intercept = regression_model.intercept_[0]\n",
    "coefficent = regression_model.coef_[0][0]\n",
    "\n",
    "print(\"The intercept for our model is {:.4}\".format(intercept))\n",
    "print('-'*100)\n",
    "\n",
    "# loop through the dictionary and print the data\n",
    "for coef in zip(X.columns, regression_model.coef_[0]):\n",
    "    print(\"The Coefficient for {} is {:.2}\".format(coef[0],coef[1]))\n"
   ]
  },
  {
   "cell_type": "code",
   "execution_count": 17,
   "id": "90b039f0",
   "metadata": {},
   "outputs": [
    {
     "name": "stdout",
     "output_type": "stream",
     "text": [
      "                            OLS Regression Results                            \n",
      "==============================================================================\n",
      "Dep. Variable:                  R_GDP   R-squared:                       0.005\n",
      "Model:                            OLS   Adj. R-squared:                 -0.006\n",
      "Method:                 Least Squares   F-statistic:                    0.4601\n",
      "Date:                Sun, 07 May 2023   Prob (F-statistic):              0.710\n",
      "Time:                        13:22:02   Log-Likelihood:                -919.43\n",
      "No. Observations:                 268   AIC:                             1847.\n",
      "Df Residuals:                     264   BIC:                             1861.\n",
      "Df Model:                           3                                         \n",
      "Covariance Type:            nonrobust                                         \n",
      "==============================================================================\n",
      "                 coef    std err          t      P>|t|      [0.025      0.975]\n",
      "------------------------------------------------------------------------------\n",
      "const          2.7574      2.839      0.971      0.332      -2.832       8.347\n",
      "FEDFUNDS      -0.2398      0.345     -0.696      0.487      -0.919       0.439\n",
      "JTSJOL         0.0005      0.000      0.980      0.328      -0.000       0.001\n",
      "PCE           -0.0003      0.000     -0.659      0.510      -0.001       0.001\n",
      "==============================================================================\n",
      "Omnibus:                      293.842   Durbin-Watson:                   0.740\n",
      "Prob(Omnibus):                  0.000   Jarque-Bera (JB):            35997.667\n",
      "Skew:                          -4.098   Prob(JB):                         0.00\n",
      "Kurtosis:                      59.183   Cond. No.                     7.97e+04\n",
      "==============================================================================\n",
      "\n",
      "Notes:\n",
      "[1] Standard Errors assume that the covariance matrix of the errors is correctly specified.\n",
      "[2] The condition number is large, 7.97e+04. This might indicate that there are\n",
      "strong multicollinearity or other numerical problems.\n"
     ]
    }
   ],
   "source": [
    "import statsmodels.api as sm\n",
    "from statsmodels.stats import diagnostic as diag\n",
    "\n",
    "# define our intput\n",
    "X2 = sm.add_constant(X)\n",
    "\n",
    "# create a OLS model\n",
    "model = sm.OLS(Y, X2)\n",
    "\n",
    "# fit the data\n",
    "est = model.fit()\n",
    "\n",
    "# Get a snapshot of the data\n",
    "print(est.summary())"
   ]
  },
  {
   "cell_type": "code",
   "execution_count": 19,
   "id": "de02f091",
   "metadata": {},
   "outputs": [
    {
     "name": "stdout",
     "output_type": "stream",
     "text": [
      "0.14455647438942612 0.14405261483647575\n",
      "----------------------------------------------------------------------------------------------------\n",
      "For the White's Test\n",
      "The p-value was 0.1446\n",
      "We fail to reject the null hypthoesis, so there is no heterosecdasticity. \n",
      "\n",
      "0.26267742945937606 0.26513014353283415\n",
      "----------------------------------------------------------------------------------------------------\n",
      "For the Breusch-Pagan's Test\n",
      "The p-value was 0.2627\n",
      "We fail to reject the null hypthoesis, so there is no heterosecdasticity.\n"
     ]
    }
   ],
   "source": [
    "# Run the White's test\n",
    "_, pval, __, f_pval = diag.het_white(est.resid, est.model.exog)\n",
    "print(pval, f_pval)\n",
    "print('-'*100)\n",
    "\n",
    "# print the results of the test\n",
    "if pval > 0.05:\n",
    "    print(\"For the White's Test\")\n",
    "    print(\"The p-value was {:.4}\".format(pval))\n",
    "    print(\"We fail to reject the null hypthoesis, so there is no heterosecdasticity. \\n\")\n",
    "    \n",
    "else:\n",
    "    print(\"For the White's Test\")\n",
    "    print(\"The p-value was {:.4}\".format(pval))\n",
    "    print(\"We reject the null hypthoesis, so there is heterosecdasticity. \\n\")\n",
    "\n",
    "# Run the Breusch-Pagan test\n",
    "_, pval, __, f_pval = diag.het_breuschpagan(est.resid, est.model.exog)\n",
    "print(pval, f_pval)\n",
    "print('-'*100)\n",
    "\n",
    "# print the results of the test\n",
    "if pval > 0.05:\n",
    "    print(\"For the Breusch-Pagan's Test\")\n",
    "    print(\"The p-value was {:.4}\".format(pval))\n",
    "    print(\"We fail to reject the null hypthoesis, so there is no heterosecdasticity.\")\n",
    "\n",
    "else:\n",
    "    print(\"For the Breusch-Pagan's Test\")\n",
    "    print(\"The p-value was {:.4}\".format(pval))\n",
    "    print(\"We reject the null hypthoesis, so there is heterosecdasticity.\")"
   ]
  },
  {
   "cell_type": "code",
   "execution_count": null,
   "id": "2b1e72ae",
   "metadata": {},
   "outputs": [],
   "source": []
  }
 ],
 "metadata": {
  "kernelspec": {
   "display_name": "Python 3 (ipykernel)",
   "language": "python",
   "name": "python3"
  },
  "language_info": {
   "codemirror_mode": {
    "name": "ipython",
    "version": 3
   },
   "file_extension": ".py",
   "mimetype": "text/x-python",
   "name": "python",
   "nbconvert_exporter": "python",
   "pygments_lexer": "ipython3",
   "version": "3.9.7"
  }
 },
 "nbformat": 4,
 "nbformat_minor": 5
}
